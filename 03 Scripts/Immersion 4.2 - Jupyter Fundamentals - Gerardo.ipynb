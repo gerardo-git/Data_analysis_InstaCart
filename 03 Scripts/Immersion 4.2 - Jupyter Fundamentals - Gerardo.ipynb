{
 "cells": [
  {
   "cell_type": "markdown",
   "id": "63fe127f",
   "metadata": {},
   "source": [
    "# Importing libraries"
   ]
  },
  {
   "cell_type": "code",
   "execution_count": 2,
   "id": "11e3defc",
   "metadata": {},
   "outputs": [],
   "source": [
    "#imported libraries\n",
    "\n",
    "import pandas as pd\n",
    "import numpy as np\n",
    "import os "
   ]
  },
  {
   "cell_type": "markdown",
   "id": "ca3c0ff1",
   "metadata": {},
   "source": [
    "# Code"
   ]
  },
  {
   "cell_type": "code",
   "execution_count": 11,
   "id": "181c6202",
   "metadata": {},
   "outputs": [
    {
     "name": "stdout",
     "output_type": "stream",
     "text": [
      "100\n",
      "100\n",
      "100\n"
     ]
    }
   ],
   "source": [
    "x=1\n",
    "y=99\n",
    "z=101\n",
    "d=200\n",
    "print(x+y)\n",
    "print(z-x)\n",
    "print(d-x-y)"
   ]
  },
  {
   "cell_type": "code",
   "execution_count": 12,
   "id": "c0ab5fdf",
   "metadata": {},
   "outputs": [
    {
     "name": "stdout",
     "output_type": "stream",
     "text": [
      "0.627450980392157\n"
     ]
    }
   ],
   "source": [
    "a=3.2\n",
    "b=5.1\n",
    "print(a/b)"
   ]
  },
  {
   "cell_type": "code",
   "execution_count": 20,
   "id": "1834d352",
   "metadata": {},
   "outputs": [
    {
     "name": "stdout",
     "output_type": "stream",
     "text": [
      "Hello\n",
      "Hello. This is an example.\n"
     ]
    }
   ],
   "source": [
    "h = 'H'\n",
    "e = 'e'\n",
    "l = 'l'\n",
    "o = 'o'\n",
    "point = '. '\n",
    "print(h+e+l+l+o)\n",
    "sentence1 = 'This is an example.'\n",
    "print(h+e+l+l+o+point+sentence1)"
   ]
  },
  {
   "cell_type": "code",
   "execution_count": null,
   "id": "66d3e0b9",
   "metadata": {},
   "outputs": [],
   "source": []
  }
 ],
 "metadata": {
  "kernelspec": {
   "display_name": "Python 3 (ipykernel)",
   "language": "python",
   "name": "python3"
  },
  "language_info": {
   "codemirror_mode": {
    "name": "ipython",
    "version": 3
   },
   "file_extension": ".py",
   "mimetype": "text/x-python",
   "name": "python",
   "nbconvert_exporter": "python",
   "pygments_lexer": "ipython3",
   "version": "3.11.7"
  }
 },
 "nbformat": 4,
 "nbformat_minor": 5
}
