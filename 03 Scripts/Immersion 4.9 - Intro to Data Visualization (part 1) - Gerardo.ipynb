{
 "cells": [
  {
   "cell_type": "markdown",
   "id": "57d9fbe7",
   "metadata": {},
   "source": [
    "# Task"
   ]
  },
  {
   "cell_type": "markdown",
   "id": "d137655f",
   "metadata": {},
   "source": [
    "### 3. Importing Modules"
   ]
  },
  {
   "cell_type": "code",
   "execution_count": 1,
   "id": "d0e77e8a",
   "metadata": {},
   "outputs": [],
   "source": [
    "import pandas as pd\n",
    "import numpy as np\n",
    "import os \n",
    "import matplotlib.pyplot as plt\n",
    "import seaborn as sns\n",
    "import scipy"
   ]
  },
  {
   "cell_type": "markdown",
   "id": "1ffec437",
   "metadata": {},
   "source": [
    "### Importing Data"
   ]
  },
  {
   "cell_type": "code",
   "execution_count": 2,
   "id": "e858d62d",
   "metadata": {},
   "outputs": [],
   "source": [
    "# declare data path as a raw string and import customer into df_customer\n",
    "\n",
    "data_path = r'C:\\Users\\gerar\\CareerFoundry Python\\Instacart Basket Analysis'\n",
    "df_customers = pd.read_csv(os.path.join(data_path, '02 Data', 'Original Data', 'customers.csv'))\n",
    "df_orders_products_merge = pd.read_pickle(os.path.join(data_path, '02 Data', 'Prepared Data', 'orders_products_merge_group.pkl'))"
   ]
  },
  {
   "cell_type": "code",
   "execution_count": 3,
   "id": "de7d9e42",
   "metadata": {},
   "outputs": [
    {
     "name": "stdout",
     "output_type": "stream",
     "text": [
      " These are the dimensions of the customers dataframe: (206209, 10)\n",
      " These are the dimensions of the orders-products merge dataframe: (32404859, 24)\n"
     ]
    }
   ],
   "source": [
    "# check shapes\n",
    "\n",
    "print(f' These are the dimensions of the customers dataframe: {df_customers.shape}')\n",
    "print(f' These are the dimensions of the orders-products merge dataframe: {df_orders_products_merge.shape}')"
   ]
  },
  {
   "cell_type": "code",
   "execution_count": 4,
   "id": "9308077f",
   "metadata": {},
   "outputs": [
    {
     "data": {
      "text/html": [
       "<div>\n",
       "<style scoped>\n",
       "    .dataframe tbody tr th:only-of-type {\n",
       "        vertical-align: middle;\n",
       "    }\n",
       "\n",
       "    .dataframe tbody tr th {\n",
       "        vertical-align: top;\n",
       "    }\n",
       "\n",
       "    .dataframe thead th {\n",
       "        text-align: right;\n",
       "    }\n",
       "</style>\n",
       "<table border=\"1\" class=\"dataframe\">\n",
       "  <thead>\n",
       "    <tr style=\"text-align: right;\">\n",
       "      <th></th>\n",
       "      <th>user_id</th>\n",
       "      <th>First Name</th>\n",
       "      <th>Surnam</th>\n",
       "      <th>Gender</th>\n",
       "      <th>STATE</th>\n",
       "      <th>Age</th>\n",
       "      <th>date_joined</th>\n",
       "      <th>n_dependants</th>\n",
       "      <th>fam_status</th>\n",
       "      <th>income</th>\n",
       "    </tr>\n",
       "  </thead>\n",
       "  <tbody>\n",
       "    <tr>\n",
       "      <th>0</th>\n",
       "      <td>26711</td>\n",
       "      <td>Deborah</td>\n",
       "      <td>Esquivel</td>\n",
       "      <td>Female</td>\n",
       "      <td>Missouri</td>\n",
       "      <td>48</td>\n",
       "      <td>1/1/2017</td>\n",
       "      <td>3</td>\n",
       "      <td>married</td>\n",
       "      <td>165665</td>\n",
       "    </tr>\n",
       "  </tbody>\n",
       "</table>\n",
       "</div>"
      ],
      "text/plain": [
       "   user_id First Name    Surnam  Gender     STATE  Age date_joined  \\\n",
       "0    26711    Deborah  Esquivel  Female  Missouri   48    1/1/2017   \n",
       "\n",
       "   n_dependants fam_status  income  \n",
       "0             3    married  165665  "
      ]
     },
     "execution_count": 4,
     "metadata": {},
     "output_type": "execute_result"
    }
   ],
   "source": [
    "#check headers\n",
    "\n",
    "df_customers.head(1)"
   ]
  },
  {
   "cell_type": "markdown",
   "id": "eabe2f98",
   "metadata": {},
   "source": [
    "### 4. Data Wrangling"
   ]
  },
  {
   "cell_type": "code",
   "execution_count": 5,
   "id": "3a4e714f",
   "metadata": {},
   "outputs": [],
   "source": [
    "# Change the name of columns \n",
    "# write a list with the new column names\n",
    "\n",
    "headers_customers = ['user_id', 'first_name', 'last_name', 'gender', 'state',\n",
    "                     'age', 'date_joined', 'number_of_dependants', 'marital_status', 'income']\n",
    "# test\n",
    "len(headers_customers) == len(df_customers.columns)\n",
    "\n",
    "df_customers.columns = headers_customers"
   ]
  },
  {
   "cell_type": "code",
   "execution_count": 6,
   "id": "9a526596",
   "metadata": {
    "scrolled": true
   },
   "outputs": [
    {
     "data": {
      "text/html": [
       "<div>\n",
       "<style scoped>\n",
       "    .dataframe tbody tr th:only-of-type {\n",
       "        vertical-align: middle;\n",
       "    }\n",
       "\n",
       "    .dataframe tbody tr th {\n",
       "        vertical-align: top;\n",
       "    }\n",
       "\n",
       "    .dataframe thead th {\n",
       "        text-align: right;\n",
       "    }\n",
       "</style>\n",
       "<table border=\"1\" class=\"dataframe\">\n",
       "  <thead>\n",
       "    <tr style=\"text-align: right;\">\n",
       "      <th></th>\n",
       "      <th>user_id</th>\n",
       "      <th>first_name</th>\n",
       "      <th>last_name</th>\n",
       "      <th>gender</th>\n",
       "      <th>state</th>\n",
       "      <th>age</th>\n",
       "      <th>date_joined</th>\n",
       "      <th>number_of_dependants</th>\n",
       "      <th>marital_status</th>\n",
       "      <th>income</th>\n",
       "    </tr>\n",
       "  </thead>\n",
       "  <tbody>\n",
       "    <tr>\n",
       "      <th>0</th>\n",
       "      <td>26711</td>\n",
       "      <td>Deborah</td>\n",
       "      <td>Esquivel</td>\n",
       "      <td>Female</td>\n",
       "      <td>Missouri</td>\n",
       "      <td>48</td>\n",
       "      <td>1/1/2017</td>\n",
       "      <td>3</td>\n",
       "      <td>married</td>\n",
       "      <td>165665</td>\n",
       "    </tr>\n",
       "  </tbody>\n",
       "</table>\n",
       "</div>"
      ],
      "text/plain": [
       "   user_id first_name last_name  gender     state  age date_joined  \\\n",
       "0    26711    Deborah  Esquivel  Female  Missouri   48    1/1/2017   \n",
       "\n",
       "   number_of_dependants marital_status  income  \n",
       "0                     3        married  165665  "
      ]
     },
     "execution_count": 6,
     "metadata": {},
     "output_type": "execute_result"
    }
   ],
   "source": [
    "# test\n",
    "df_customers.head(1)"
   ]
  },
  {
   "cell_type": "markdown",
   "id": "189bb2ce",
   "metadata": {},
   "source": [
    "### Summary: Data Wrangling\n",
    "Only the column names were changed "
   ]
  },
  {
   "cell_type": "markdown",
   "id": "145956b2",
   "metadata": {},
   "source": [
    "### 5. Data consistency"
   ]
  },
  {
   "cell_type": "code",
   "execution_count": 7,
   "id": "22996229",
   "metadata": {
    "scrolled": true
   },
   "outputs": [
    {
     "data": {
      "text/html": [
       "<div>\n",
       "<style scoped>\n",
       "    .dataframe tbody tr th:only-of-type {\n",
       "        vertical-align: middle;\n",
       "    }\n",
       "\n",
       "    .dataframe tbody tr th {\n",
       "        vertical-align: top;\n",
       "    }\n",
       "\n",
       "    .dataframe thead th {\n",
       "        text-align: right;\n",
       "    }\n",
       "</style>\n",
       "<table border=\"1\" class=\"dataframe\">\n",
       "  <thead>\n",
       "    <tr style=\"text-align: right;\">\n",
       "      <th></th>\n",
       "      <th>user_id</th>\n",
       "      <th>first_name</th>\n",
       "      <th>last_name</th>\n",
       "      <th>gender</th>\n",
       "      <th>state</th>\n",
       "      <th>age</th>\n",
       "      <th>date_joined</th>\n",
       "      <th>number_of_dependants</th>\n",
       "      <th>marital_status</th>\n",
       "      <th>income</th>\n",
       "    </tr>\n",
       "  </thead>\n",
       "  <tbody>\n",
       "    <tr>\n",
       "      <th>count</th>\n",
       "      <td>206209.000000</td>\n",
       "      <td>194950</td>\n",
       "      <td>206209</td>\n",
       "      <td>206209</td>\n",
       "      <td>206209</td>\n",
       "      <td>206209.000000</td>\n",
       "      <td>206209</td>\n",
       "      <td>206209.000000</td>\n",
       "      <td>206209</td>\n",
       "      <td>206209.000000</td>\n",
       "    </tr>\n",
       "    <tr>\n",
       "      <th>unique</th>\n",
       "      <td>NaN</td>\n",
       "      <td>207</td>\n",
       "      <td>1000</td>\n",
       "      <td>2</td>\n",
       "      <td>51</td>\n",
       "      <td>NaN</td>\n",
       "      <td>1187</td>\n",
       "      <td>NaN</td>\n",
       "      <td>4</td>\n",
       "      <td>NaN</td>\n",
       "    </tr>\n",
       "    <tr>\n",
       "      <th>top</th>\n",
       "      <td>NaN</td>\n",
       "      <td>Marilyn</td>\n",
       "      <td>Hamilton</td>\n",
       "      <td>Male</td>\n",
       "      <td>Florida</td>\n",
       "      <td>NaN</td>\n",
       "      <td>9/17/2018</td>\n",
       "      <td>NaN</td>\n",
       "      <td>married</td>\n",
       "      <td>NaN</td>\n",
       "    </tr>\n",
       "    <tr>\n",
       "      <th>freq</th>\n",
       "      <td>NaN</td>\n",
       "      <td>2213</td>\n",
       "      <td>252</td>\n",
       "      <td>104067</td>\n",
       "      <td>4044</td>\n",
       "      <td>NaN</td>\n",
       "      <td>213</td>\n",
       "      <td>NaN</td>\n",
       "      <td>144906</td>\n",
       "      <td>NaN</td>\n",
       "    </tr>\n",
       "    <tr>\n",
       "      <th>mean</th>\n",
       "      <td>103105.000000</td>\n",
       "      <td>NaN</td>\n",
       "      <td>NaN</td>\n",
       "      <td>NaN</td>\n",
       "      <td>NaN</td>\n",
       "      <td>49.501646</td>\n",
       "      <td>NaN</td>\n",
       "      <td>1.499823</td>\n",
       "      <td>NaN</td>\n",
       "      <td>94632.852548</td>\n",
       "    </tr>\n",
       "    <tr>\n",
       "      <th>std</th>\n",
       "      <td>59527.555167</td>\n",
       "      <td>NaN</td>\n",
       "      <td>NaN</td>\n",
       "      <td>NaN</td>\n",
       "      <td>NaN</td>\n",
       "      <td>18.480962</td>\n",
       "      <td>NaN</td>\n",
       "      <td>1.118433</td>\n",
       "      <td>NaN</td>\n",
       "      <td>42473.786988</td>\n",
       "    </tr>\n",
       "    <tr>\n",
       "      <th>min</th>\n",
       "      <td>1.000000</td>\n",
       "      <td>NaN</td>\n",
       "      <td>NaN</td>\n",
       "      <td>NaN</td>\n",
       "      <td>NaN</td>\n",
       "      <td>18.000000</td>\n",
       "      <td>NaN</td>\n",
       "      <td>0.000000</td>\n",
       "      <td>NaN</td>\n",
       "      <td>25903.000000</td>\n",
       "    </tr>\n",
       "    <tr>\n",
       "      <th>25%</th>\n",
       "      <td>51553.000000</td>\n",
       "      <td>NaN</td>\n",
       "      <td>NaN</td>\n",
       "      <td>NaN</td>\n",
       "      <td>NaN</td>\n",
       "      <td>33.000000</td>\n",
       "      <td>NaN</td>\n",
       "      <td>0.000000</td>\n",
       "      <td>NaN</td>\n",
       "      <td>59874.000000</td>\n",
       "    </tr>\n",
       "    <tr>\n",
       "      <th>50%</th>\n",
       "      <td>103105.000000</td>\n",
       "      <td>NaN</td>\n",
       "      <td>NaN</td>\n",
       "      <td>NaN</td>\n",
       "      <td>NaN</td>\n",
       "      <td>49.000000</td>\n",
       "      <td>NaN</td>\n",
       "      <td>1.000000</td>\n",
       "      <td>NaN</td>\n",
       "      <td>93547.000000</td>\n",
       "    </tr>\n",
       "    <tr>\n",
       "      <th>75%</th>\n",
       "      <td>154657.000000</td>\n",
       "      <td>NaN</td>\n",
       "      <td>NaN</td>\n",
       "      <td>NaN</td>\n",
       "      <td>NaN</td>\n",
       "      <td>66.000000</td>\n",
       "      <td>NaN</td>\n",
       "      <td>3.000000</td>\n",
       "      <td>NaN</td>\n",
       "      <td>124244.000000</td>\n",
       "    </tr>\n",
       "    <tr>\n",
       "      <th>max</th>\n",
       "      <td>206209.000000</td>\n",
       "      <td>NaN</td>\n",
       "      <td>NaN</td>\n",
       "      <td>NaN</td>\n",
       "      <td>NaN</td>\n",
       "      <td>81.000000</td>\n",
       "      <td>NaN</td>\n",
       "      <td>3.000000</td>\n",
       "      <td>NaN</td>\n",
       "      <td>593901.000000</td>\n",
       "    </tr>\n",
       "  </tbody>\n",
       "</table>\n",
       "</div>"
      ],
      "text/plain": [
       "              user_id first_name last_name  gender    state            age  \\\n",
       "count   206209.000000     194950    206209  206209   206209  206209.000000   \n",
       "unique            NaN        207      1000       2       51            NaN   \n",
       "top               NaN    Marilyn  Hamilton    Male  Florida            NaN   \n",
       "freq              NaN       2213       252  104067     4044            NaN   \n",
       "mean    103105.000000        NaN       NaN     NaN      NaN      49.501646   \n",
       "std      59527.555167        NaN       NaN     NaN      NaN      18.480962   \n",
       "min          1.000000        NaN       NaN     NaN      NaN      18.000000   \n",
       "25%      51553.000000        NaN       NaN     NaN      NaN      33.000000   \n",
       "50%     103105.000000        NaN       NaN     NaN      NaN      49.000000   \n",
       "75%     154657.000000        NaN       NaN     NaN      NaN      66.000000   \n",
       "max     206209.000000        NaN       NaN     NaN      NaN      81.000000   \n",
       "\n",
       "       date_joined  number_of_dependants marital_status         income  \n",
       "count       206209         206209.000000         206209  206209.000000  \n",
       "unique        1187                   NaN              4            NaN  \n",
       "top      9/17/2018                   NaN        married            NaN  \n",
       "freq           213                   NaN         144906            NaN  \n",
       "mean           NaN              1.499823            NaN   94632.852548  \n",
       "std            NaN              1.118433            NaN   42473.786988  \n",
       "min            NaN              0.000000            NaN   25903.000000  \n",
       "25%            NaN              0.000000            NaN   59874.000000  \n",
       "50%            NaN              1.000000            NaN   93547.000000  \n",
       "75%            NaN              3.000000            NaN  124244.000000  \n",
       "max            NaN              3.000000            NaN  593901.000000  "
      ]
     },
     "execution_count": 7,
     "metadata": {},
     "output_type": "execute_result"
    }
   ],
   "source": [
    "# exploratory analysis of variables\n",
    "df_customers.describe(include = 'all')"
   ]
  },
  {
   "cell_type": "code",
   "execution_count": 8,
   "id": "d11aee32",
   "metadata": {},
   "outputs": [
    {
     "data": {
      "text/plain": [
       "user_id                  int64\n",
       "first_name              object\n",
       "last_name               object\n",
       "gender                  object\n",
       "state                   object\n",
       "age                      int64\n",
       "date_joined             object\n",
       "number_of_dependants     int64\n",
       "marital_status          object\n",
       "income                   int64\n",
       "dtype: object"
      ]
     },
     "execution_count": 8,
     "metadata": {},
     "output_type": "execute_result"
    }
   ],
   "source": [
    "#checking data types \n",
    "df_customers.dtypes"
   ]
  },
  {
   "cell_type": "code",
   "execution_count": 9,
   "id": "e0bd9cea",
   "metadata": {},
   "outputs": [],
   "source": [
    "# change user_id into object type\n",
    "df_customers['user_id'] = df_customers['user_id'].astype(str)"
   ]
  },
  {
   "cell_type": "code",
   "execution_count": 10,
   "id": "5050ac50",
   "metadata": {},
   "outputs": [
    {
     "data": {
      "text/plain": [
       "user_id                     0\n",
       "first_name              11259\n",
       "last_name                   0\n",
       "gender                      0\n",
       "state                       0\n",
       "age                         0\n",
       "date_joined                 0\n",
       "number_of_dependants        0\n",
       "marital_status              0\n",
       "income                      0\n",
       "dtype: int64"
      ]
     },
     "execution_count": 10,
     "metadata": {},
     "output_type": "execute_result"
    }
   ],
   "source": [
    "# find how many null/NaN values in the dataframe\n",
    "df_customers.isna().sum()"
   ]
  },
  {
   "cell_type": "code",
   "execution_count": 11,
   "id": "4d666fdd",
   "metadata": {},
   "outputs": [],
   "source": [
    "# create a slice with these customers as safety\n",
    "df_customers_no_name= df_customers[df_customers['first_name'].isna()]"
   ]
  },
  {
   "cell_type": "code",
   "execution_count": 12,
   "id": "7fdc61e5",
   "metadata": {},
   "outputs": [
    {
     "data": {
      "text/html": [
       "<div>\n",
       "<style scoped>\n",
       "    .dataframe tbody tr th:only-of-type {\n",
       "        vertical-align: middle;\n",
       "    }\n",
       "\n",
       "    .dataframe tbody tr th {\n",
       "        vertical-align: top;\n",
       "    }\n",
       "\n",
       "    .dataframe thead th {\n",
       "        text-align: right;\n",
       "    }\n",
       "</style>\n",
       "<table border=\"1\" class=\"dataframe\">\n",
       "  <thead>\n",
       "    <tr style=\"text-align: right;\">\n",
       "      <th></th>\n",
       "      <th>user_id</th>\n",
       "      <th>first_name</th>\n",
       "      <th>last_name</th>\n",
       "      <th>gender</th>\n",
       "      <th>state</th>\n",
       "      <th>age</th>\n",
       "      <th>date_joined</th>\n",
       "      <th>number_of_dependants</th>\n",
       "      <th>marital_status</th>\n",
       "      <th>income</th>\n",
       "    </tr>\n",
       "  </thead>\n",
       "  <tbody>\n",
       "  </tbody>\n",
       "</table>\n",
       "</div>"
      ],
      "text/plain": [
       "Empty DataFrame\n",
       "Columns: [user_id, first_name, last_name, gender, state, age, date_joined, number_of_dependants, marital_status, income]\n",
       "Index: []"
      ]
     },
     "execution_count": 12,
     "metadata": {},
     "output_type": "execute_result"
    }
   ],
   "source": [
    "#check for duplicates \n",
    "df_customers[df_customers.duplicated()]"
   ]
  },
  {
   "cell_type": "code",
   "execution_count": 13,
   "id": "e721d1e2",
   "metadata": {},
   "outputs": [
    {
     "name": "stdout",
     "output_type": "stream",
     "text": [
      "first_name\n"
     ]
    }
   ],
   "source": [
    "# check for mixed type data \n",
    "for col in df_customers.columns.tolist():\n",
    "  weird = (df_customers[[col]].map(type) != df_customers[[col]].iloc[0].apply(type)).any(axis = 1)\n",
    "  if len (df_customers[weird]) > 0:\n",
    "    print (col)"
   ]
  },
  {
   "cell_type": "code",
   "execution_count": 14,
   "id": "a40a62f8",
   "metadata": {},
   "outputs": [],
   "source": [
    "# check if the nan values are causing mixed data type in first_name of something else\n",
    "df_customers_with_names = df_customers[df_customers['first_name'].notna()]"
   ]
  },
  {
   "cell_type": "code",
   "execution_count": 15,
   "id": "036a7d37",
   "metadata": {},
   "outputs": [],
   "source": [
    "# check for mixed type data \n",
    "for col in df_customers_with_names.columns.tolist():\n",
    "  weird = (df_customers_with_names[[col]].map(type) != df_customers_with_names[[col]].iloc[0].apply(type)).any(axis = 1)\n",
    "  if len (df_customers_with_names[weird]) > 0:\n",
    "    print (col)"
   ]
  },
  {
   "cell_type": "markdown",
   "id": "080f75f0",
   "metadata": {},
   "source": [
    "### Summary: Data Consistency\n",
    "\n",
    "\n",
    "-user_id is now an object type \n",
    "\n",
    "-nan rows in first_name were spotted (need further advice on how to treat them)\n",
    "\n",
    "-no duplicates were found\n",
    "\n",
    "-mixed type data in first_name is caused by nan entries"
   ]
  },
  {
   "cell_type": "markdown",
   "id": "5452ee2d",
   "metadata": {},
   "source": [
    "\n",
    "### 5. Data combination"
   ]
  },
  {
   "cell_type": "code",
   "execution_count": 25,
   "id": "32d307c6",
   "metadata": {},
   "outputs": [],
   "source": [
    "# display all column names\n",
    "pd.options.display.max_columns = None"
   ]
  },
  {
   "cell_type": "code",
   "execution_count": 26,
   "id": "17a60f34",
   "metadata": {},
   "outputs": [
    {
     "data": {
      "text/html": [
       "<div>\n",
       "<style scoped>\n",
       "    .dataframe tbody tr th:only-of-type {\n",
       "        vertical-align: middle;\n",
       "    }\n",
       "\n",
       "    .dataframe tbody tr th {\n",
       "        vertical-align: top;\n",
       "    }\n",
       "\n",
       "    .dataframe thead th {\n",
       "        text-align: right;\n",
       "    }\n",
       "</style>\n",
       "<table border=\"1\" class=\"dataframe\">\n",
       "  <thead>\n",
       "    <tr style=\"text-align: right;\">\n",
       "      <th></th>\n",
       "      <th>user_id</th>\n",
       "      <th>first_name</th>\n",
       "      <th>last_name</th>\n",
       "      <th>gender</th>\n",
       "      <th>state</th>\n",
       "      <th>age</th>\n",
       "      <th>date_joined</th>\n",
       "      <th>number_of_dependants</th>\n",
       "      <th>marital_status</th>\n",
       "      <th>income</th>\n",
       "    </tr>\n",
       "  </thead>\n",
       "  <tbody>\n",
       "    <tr>\n",
       "      <th>0</th>\n",
       "      <td>26711</td>\n",
       "      <td>Deborah</td>\n",
       "      <td>Esquivel</td>\n",
       "      <td>Female</td>\n",
       "      <td>Missouri</td>\n",
       "      <td>48</td>\n",
       "      <td>1/1/2017</td>\n",
       "      <td>3</td>\n",
       "      <td>married</td>\n",
       "      <td>165665</td>\n",
       "    </tr>\n",
       "  </tbody>\n",
       "</table>\n",
       "</div>"
      ],
      "text/plain": [
       "  user_id first_name last_name  gender     state  age date_joined  \\\n",
       "0   26711    Deborah  Esquivel  Female  Missouri   48    1/1/2017   \n",
       "\n",
       "   number_of_dependants marital_status  income  \n",
       "0                     3        married  165665  "
      ]
     },
     "execution_count": 26,
     "metadata": {},
     "output_type": "execute_result"
    }
   ],
   "source": [
    "# check headers of both dataframes\n",
    "df_customers.head(1)"
   ]
  },
  {
   "cell_type": "code",
   "execution_count": 29,
   "id": "cd044319",
   "metadata": {},
   "outputs": [
    {
     "data": {
      "text/html": [
       "<div>\n",
       "<style scoped>\n",
       "    .dataframe tbody tr th:only-of-type {\n",
       "        vertical-align: middle;\n",
       "    }\n",
       "\n",
       "    .dataframe tbody tr th {\n",
       "        vertical-align: top;\n",
       "    }\n",
       "\n",
       "    .dataframe thead th {\n",
       "        text-align: right;\n",
       "    }\n",
       "</style>\n",
       "<table border=\"1\" class=\"dataframe\">\n",
       "  <thead>\n",
       "    <tr style=\"text-align: right;\">\n",
       "      <th></th>\n",
       "      <th>product_id</th>\n",
       "      <th>product_name</th>\n",
       "      <th>aisle_id</th>\n",
       "      <th>department_id</th>\n",
       "      <th>prices</th>\n",
       "      <th>order_id</th>\n",
       "      <th>user_id</th>\n",
       "      <th>customer_order_count</th>\n",
       "      <th>order_day_of_the_week</th>\n",
       "      <th>order_hour_of_day</th>\n",
       "      <th>days_since_prior_order</th>\n",
       "      <th>add_to_cart_order</th>\n",
       "      <th>reordered</th>\n",
       "      <th>_merge</th>\n",
       "      <th>price_range_loc</th>\n",
       "      <th>busiest_day</th>\n",
       "      <th>busiest_days_new</th>\n",
       "      <th>busiest_period_of_day</th>\n",
       "      <th>max_order</th>\n",
       "      <th>loyalty_flag</th>\n",
       "      <th>mean_price</th>\n",
       "      <th>spending_flag</th>\n",
       "      <th>median_prior_days</th>\n",
       "      <th>frequency_flag</th>\n",
       "    </tr>\n",
       "  </thead>\n",
       "  <tbody>\n",
       "    <tr>\n",
       "      <th>0</th>\n",
       "      <td>1</td>\n",
       "      <td>Chocolate Sandwich Cookies</td>\n",
       "      <td>61</td>\n",
       "      <td>19</td>\n",
       "      <td>5.8</td>\n",
       "      <td>3139998</td>\n",
       "      <td>138</td>\n",
       "      <td>28</td>\n",
       "      <td>6</td>\n",
       "      <td>11</td>\n",
       "      <td>3.0</td>\n",
       "      <td>5</td>\n",
       "      <td>0</td>\n",
       "      <td>both</td>\n",
       "      <td>Mid_range_price</td>\n",
       "      <td>Regularly busy</td>\n",
       "      <td>Regularly busy</td>\n",
       "      <td>Most orders</td>\n",
       "      <td>32</td>\n",
       "      <td>Regular customer</td>\n",
       "      <td>6.935811</td>\n",
       "      <td>Low spender</td>\n",
       "      <td>8.0</td>\n",
       "      <td>Frequent customer</td>\n",
       "    </tr>\n",
       "  </tbody>\n",
       "</table>\n",
       "</div>"
      ],
      "text/plain": [
       "   product_id                product_name  aisle_id  department_id  prices  \\\n",
       "0           1  Chocolate Sandwich Cookies        61             19     5.8   \n",
       "\n",
       "   order_id user_id  customer_order_count  order_day_of_the_week  \\\n",
       "0   3139998     138                    28                      6   \n",
       "\n",
       "   order_hour_of_day  days_since_prior_order  add_to_cart_order  reordered  \\\n",
       "0                 11                     3.0                  5          0   \n",
       "\n",
       "  _merge  price_range_loc     busiest_day busiest_days_new  \\\n",
       "0   both  Mid_range_price  Regularly busy   Regularly busy   \n",
       "\n",
       "  busiest_period_of_day  max_order      loyalty_flag  mean_price  \\\n",
       "0           Most orders         32  Regular customer    6.935811   \n",
       "\n",
       "  spending_flag  median_prior_days     frequency_flag  \n",
       "0   Low spender                8.0  Frequent customer  "
      ]
     },
     "execution_count": 29,
     "metadata": {},
     "output_type": "execute_result"
    }
   ],
   "source": [
    "df_orders_products_merge.head(1)"
   ]
  },
  {
   "cell_type": "code",
   "execution_count": 33,
   "id": "1bbacca0",
   "metadata": {},
   "outputs": [],
   "source": [
    "# drop \"_merge\" column Indicator\n",
    "df_orders_products_merge = df_orders_products_merge.drop('_merge', axis=1)"
   ]
  },
  {
   "cell_type": "code",
   "execution_count": 18,
   "id": "c805f84e",
   "metadata": {},
   "outputs": [
    {
     "name": "stdout",
     "output_type": "stream",
     "text": [
      "int64\n"
     ]
    }
   ],
   "source": [
    "#check compatible datatypes of key \n",
    "print(df_orders_products_merge['user_id'].dtype)"
   ]
  },
  {
   "cell_type": "code",
   "execution_count": 19,
   "id": "92ea342d",
   "metadata": {},
   "outputs": [
    {
     "name": "stdout",
     "output_type": "stream",
     "text": [
      "object\n"
     ]
    }
   ],
   "source": [
    "print(df_customers['user_id'].dtype)"
   ]
  },
  {
   "cell_type": "code",
   "execution_count": 20,
   "id": "ccf33551",
   "metadata": {},
   "outputs": [
    {
     "name": "stdout",
     "output_type": "stream",
     "text": [
      "object\n"
     ]
    }
   ],
   "source": [
    "# make df_orders_products_merge['user_id'] an object type \n",
    "df_orders_products_merge['user_id'] = df_orders_products_merge['user_id'].astype(str)\n",
    "\n",
    "print(df_orders_products_merge['user_id'].dtype)"
   ]
  },
  {
   "cell_type": "code",
   "execution_count": 34,
   "id": "a41ee4a4",
   "metadata": {},
   "outputs": [],
   "source": [
    "# merging tables \n",
    "df_orders_products_all = pd.merge(df_customers, df_orders_products_merge, on='user_id', how = 'outer', indicator = True)"
   ]
  },
  {
   "cell_type": "markdown",
   "id": "f35e715c",
   "metadata": {},
   "source": [
    "### Summary: Data Combination"
   ]
  },
  {
   "cell_type": "code",
   "execution_count": 36,
   "id": "9f265fd5",
   "metadata": {},
   "outputs": [
    {
     "data": {
      "text/plain": [
       "(32404859, 33)"
      ]
     },
     "execution_count": 36,
     "metadata": {},
     "output_type": "execute_result"
    }
   ],
   "source": [
    "# shape\n",
    "df_orders_products_all.shape"
   ]
  },
  {
   "cell_type": "markdown",
   "id": "633a6691",
   "metadata": {},
   "source": [
    "### Data export"
   ]
  },
  {
   "cell_type": "code",
   "execution_count": 37,
   "id": "136ee872",
   "metadata": {},
   "outputs": [],
   "source": [
    "df_orders_products_all.to_pickle(os.path.join(data_path, '02 Data', 'Prepared Data', 'orders_products_all.pkl'))"
   ]
  },
  {
   "cell_type": "code",
   "execution_count": 39,
   "id": "ed440200",
   "metadata": {},
   "outputs": [
    {
     "data": {
      "text/plain": [
       "(32404859, 33)"
      ]
     },
     "execution_count": 39,
     "metadata": {},
     "output_type": "execute_result"
    }
   ],
   "source": [
    "# shape\n",
    "df_orders_products_all.shape"
   ]
  },
  {
   "cell_type": "code",
   "execution_count": null,
   "id": "970e439d",
   "metadata": {},
   "outputs": [],
   "source": []
  }
 ],
 "metadata": {
  "kernelspec": {
   "display_name": "Python 3 (ipykernel)",
   "language": "python",
   "name": "python3"
  },
  "language_info": {
   "codemirror_mode": {
    "name": "ipython",
    "version": 3
   },
   "file_extension": ".py",
   "mimetype": "text/x-python",
   "name": "python",
   "nbconvert_exporter": "python",
   "pygments_lexer": "ipython3",
   "version": "3.11.7"
  }
 },
 "nbformat": 4,
 "nbformat_minor": 5
}
