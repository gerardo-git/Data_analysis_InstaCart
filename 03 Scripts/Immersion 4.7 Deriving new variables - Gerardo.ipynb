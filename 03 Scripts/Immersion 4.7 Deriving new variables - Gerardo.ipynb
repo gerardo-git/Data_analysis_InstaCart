{
 "cells": [
  {
   "cell_type": "markdown",
   "id": "b5a2cc26",
   "metadata": {},
   "source": [
    "### Importing Libraries"
   ]
  },
  {
   "cell_type": "code",
   "execution_count": 1,
   "id": "4c9df83a",
   "metadata": {},
   "outputs": [],
   "source": [
    "import pandas as pd\n",
    "import numpy as np\n",
    "import os"
   ]
  },
  {
   "cell_type": "markdown",
   "id": "3ed2d030",
   "metadata": {},
   "source": [
    "### Importing Data"
   ]
  },
  {
   "cell_type": "code",
   "execution_count": 2,
   "id": "e3b38d4d",
   "metadata": {},
   "outputs": [],
   "source": [
    "# establishes data path\n",
    "data_path = r'C:\\Users\\gerar\\CareerFoundry Python\\Instacart Basket Analysis\\02 Data'"
   ]
  },
  {
   "cell_type": "code",
   "execution_count": 3,
   "id": "69ef8a65",
   "metadata": {},
   "outputs": [],
   "source": [
    "# imports pickle file into a panda dataframe \n",
    "df_orders_products_merge = pd.read_pickle(os.path.join(data_path, 'Prepared Data', 'orders_products_merge.pkl'))"
   ]
  },
  {
   "cell_type": "code",
   "execution_count": 4,
   "id": "585622ac",
   "metadata": {},
   "outputs": [],
   "source": [
    "# creates a subset for safe experimenting\n",
    "df = df_orders_products_merge[:1000000]"
   ]
  },
  {
   "cell_type": "markdown",
   "id": "541b15d1",
   "metadata": {},
   "source": [
    "### Defining a function"
   ]
  },
  {
   "cell_type": "code",
   "execution_count": 5,
   "id": "ee35b3d8",
   "metadata": {},
   "outputs": [],
   "source": [
    "def price_label(row):\n",
    "    if row['prices'] <= 5:\n",
    "        return 'Low-range product'\n",
    "    elif (row['prices'] > 5) and (row ['prices'] <= 15):\n",
    "        return 'Mid-range product'\n",
    "    elif row['prices'] > 15: \n",
    "        return 'High range'\n",
    "    else: return 'Not enough data'"
   ]
  },
  {
   "cell_type": "markdown",
   "id": "8f1e01a0",
   "metadata": {},
   "source": [
    "### Applying price label function"
   ]
  },
  {
   "cell_type": "code",
   "execution_count": 6,
   "id": "880a5ff1",
   "metadata": {},
   "outputs": [
    {
     "name": "stderr",
     "output_type": "stream",
     "text": [
      "C:\\Users\\gerar\\AppData\\Local\\Temp\\ipykernel_11924\\1951934892.py:2: SettingWithCopyWarning: \n",
      "A value is trying to be set on a copy of a slice from a DataFrame.\n",
      "Try using .loc[row_indexer,col_indexer] = value instead\n",
      "\n",
      "See the caveats in the documentation: https://pandas.pydata.org/pandas-docs/stable/user_guide/indexing.html#returning-a-view-versus-a-copy\n",
      "  df['price_range'] = df.apply(price_label, axis=1)\n"
     ]
    }
   ],
   "source": [
    "# uses price label function and creates a price_range column in the df\n",
    "df['price_range'] = df.apply(price_label, axis=1)"
   ]
  },
  {
   "cell_type": "code",
   "execution_count": 7,
   "id": "a9006e79",
   "metadata": {},
   "outputs": [
    {
     "data": {
      "text/plain": [
       "price_range\n",
       "Mid-range product    652638\n",
       "Low-range product    338018\n",
       "High range             9344\n",
       "Name: count, dtype: int64"
      ]
     },
     "execution_count": 7,
     "metadata": {},
     "output_type": "execute_result"
    }
   ],
   "source": [
    "df['price_range'].value_counts()"
   ]
  },
  {
   "cell_type": "code",
   "execution_count": 8,
   "id": "117b52e9",
   "metadata": {},
   "outputs": [
    {
     "data": {
      "text/plain": [
       "24.5"
      ]
     },
     "execution_count": 8,
     "metadata": {},
     "output_type": "execute_result"
    }
   ],
   "source": [
    "df['prices'].max()"
   ]
  },
  {
   "cell_type": "code",
   "execution_count": 9,
   "id": "f08e9c45",
   "metadata": {},
   "outputs": [
    {
     "name": "stderr",
     "output_type": "stream",
     "text": [
      "C:\\Users\\gerar\\AppData\\Local\\Temp\\ipykernel_11924\\237033395.py:1: SettingWithCopyWarning: \n",
      "A value is trying to be set on a copy of a slice from a DataFrame.\n",
      "Try using .loc[row_indexer,col_indexer] = value instead\n",
      "\n",
      "See the caveats in the documentation: https://pandas.pydata.org/pandas-docs/stable/user_guide/indexing.html#returning-a-view-versus-a-copy\n",
      "  df.loc[df['prices']> 15, 'price_range_loc'] = 'High-range product'\n"
     ]
    }
   ],
   "source": [
    "df.loc[df['prices']> 15, 'price_range_loc'] = 'High-range product'"
   ]
  },
  {
   "cell_type": "code",
   "execution_count": 10,
   "id": "495588fd",
   "metadata": {},
   "outputs": [],
   "source": [
    "df.loc[(df['prices'] <= 15) & (df['prices'] > 5), 'price_range_loc'] = 'Mid-range product' "
   ]
  },
  {
   "cell_type": "code",
   "execution_count": 11,
   "id": "6ce51414",
   "metadata": {},
   "outputs": [],
   "source": [
    "df.loc[df['prices'] <= 5, 'price_range_loc'] = 'Low-range product'"
   ]
  },
  {
   "cell_type": "code",
   "execution_count": 12,
   "id": "9d4b4a6d",
   "metadata": {},
   "outputs": [
    {
     "data": {
      "text/plain": [
       "price_range_loc\n",
       "Mid-range product     652638\n",
       "Low-range product     338018\n",
       "High-range product      9344\n",
       "Name: count, dtype: int64"
      ]
     },
     "execution_count": 12,
     "metadata": {},
     "output_type": "execute_result"
    }
   ],
   "source": [
    "df['price_range_loc'].value_counts()"
   ]
  },
  {
   "cell_type": "code",
   "execution_count": 13,
   "id": "3dcde9cd",
   "metadata": {},
   "outputs": [],
   "source": [
    "df_orders_products_merge.loc[df_orders_products_merge['prices']<= 5, 'price_range_loc'] = 'Low-range product'"
   ]
  },
  {
   "cell_type": "code",
   "execution_count": 14,
   "id": "a7cebfb7",
   "metadata": {},
   "outputs": [],
   "source": [
    "df_orders_products_merge.loc[(df_orders_products_merge['prices'] > 5) & (df_orders_products_merge['prices'] <= 15), 'price_range_loc'] = 'Mid_range_price'"
   ]
  },
  {
   "cell_type": "code",
   "execution_count": 15,
   "id": "89866c76",
   "metadata": {},
   "outputs": [],
   "source": [
    "df_orders_products_merge.loc[df_orders_products_merge['prices'] > 15, 'price_range_loc'] = 'High-range product'"
   ]
  },
  {
   "cell_type": "code",
   "execution_count": 16,
   "id": "a4bb678f",
   "metadata": {},
   "outputs": [
    {
     "data": {
      "text/plain": [
       "price_range_loc\n",
       "Mid_range_price       21860860\n",
       "Low-range product     10126321\n",
       "High-range product      417678\n",
       "Name: count, dtype: int64"
      ]
     },
     "execution_count": 16,
     "metadata": {},
     "output_type": "execute_result"
    }
   ],
   "source": [
    "df_orders_products_merge['price_range_loc'].value_counts()"
   ]
  },
  {
   "cell_type": "markdown",
   "id": "dd5ad5be",
   "metadata": {},
   "source": [
    "#### For loop example"
   ]
  },
  {
   "cell_type": "code",
   "execution_count": 17,
   "id": "04ecf15a",
   "metadata": {},
   "outputs": [
    {
     "name": "stdout",
     "output_type": "stream",
     "text": [
      "My age is 30\n",
      "My age is 31\n",
      "My age is 32\n",
      "My age is 33\n",
      "My age is 34\n",
      "My age is 35\n",
      "My age is 36\n",
      "My age is 37\n",
      "My age is 38\n",
      "My age is 39\n",
      "My age is 40\n",
      "My age is 41\n",
      "My age is 42\n",
      "My age is 43\n",
      "My age is 44\n"
     ]
    }
   ],
   "source": [
    "for x in range(30,45):\n",
    "    print('My age is %d' %(x))"
   ]
  },
  {
   "cell_type": "code",
   "execution_count": 18,
   "id": "8c5374e0",
   "metadata": {},
   "outputs": [
    {
     "data": {
      "text/plain": [
       "order_day_of_the_week\n",
       "0    6204182\n",
       "1    5660230\n",
       "6    4496490\n",
       "2    4213830\n",
       "5    4205791\n",
       "3    3840534\n",
       "4    3783802\n",
       "Name: count, dtype: int64"
      ]
     },
     "execution_count": 18,
     "metadata": {},
     "output_type": "execute_result"
    }
   ],
   "source": [
    "df_orders_products_merge['order_day_of_the_week'].value_counts(dropna = False)"
   ]
  },
  {
   "cell_type": "code",
   "execution_count": 19,
   "id": "762ca9b6",
   "metadata": {},
   "outputs": [],
   "source": [
    "result = []\n",
    "\n",
    "for value in df_orders_products_merge['order_day_of_the_week']:\n",
    "    if value == 0:\n",
    "        result.append('Busiest day')\n",
    "    elif value == 4:\n",
    "        result.append('Least busy')\n",
    "    else:\n",
    "        result.append('Regularly busy')"
   ]
  },
  {
   "cell_type": "code",
   "execution_count": 20,
   "id": "f53d0ea2",
   "metadata": {},
   "outputs": [],
   "source": [
    "df_orders_products_merge['busiest_day'] = result"
   ]
  },
  {
   "cell_type": "code",
   "execution_count": 21,
   "id": "bab2af47",
   "metadata": {},
   "outputs": [
    {
     "data": {
      "text/plain": [
       "busiest_day\n",
       "Regularly busy    22416875\n",
       "Busiest day        6204182\n",
       "Least busy         3783802\n",
       "Name: count, dtype: int64"
      ]
     },
     "execution_count": 21,
     "metadata": {},
     "output_type": "execute_result"
    }
   ],
   "source": [
    "df_orders_products_merge['busiest_day'].value_counts(dropna = False)"
   ]
  },
  {
   "cell_type": "markdown",
   "id": "139b31ef",
   "metadata": {},
   "source": [
    "# Task"
   ]
  },
  {
   "cell_type": "markdown",
   "id": "dcf832c1",
   "metadata": {},
   "source": [
    "### 2. Modifying busiest day column"
   ]
  },
  {
   "cell_type": "code",
   "execution_count": 22,
   "id": "a305f9b9",
   "metadata": {},
   "outputs": [],
   "source": [
    "# resets the \"result\" list. \n",
    "# modifies \"for\" loop with the new conditions. New logic: top 2 and bottom 2. The rest stays the same.\n",
    "\n",
    "result = []\n",
    "\n",
    "for value in df_orders_products_merge['order_day_of_the_week']:\n",
    "    if (value == 0) or (value == 1):\n",
    "        result.append('Busiest days')\n",
    "    elif (value == 4 or value == 3):\n",
    "        result.append('Least busy days')\n",
    "    else:\n",
    "        result.append('Regularly busy')"
   ]
  },
  {
   "cell_type": "code",
   "execution_count": 23,
   "id": "5699e8ca",
   "metadata": {},
   "outputs": [],
   "source": [
    "# assigns the new result list into a new \"busiest_day_new\" column \n",
    "\n",
    "df_orders_products_merge['busiest_days_new'] = result"
   ]
  },
  {
   "cell_type": "code",
   "execution_count": 24,
   "id": "4cd30497",
   "metadata": {},
   "outputs": [
    {
     "data": {
      "text/plain": [
       "busiest_days_new\n",
       "Regularly busy     12916111\n",
       "Busiest days       11864412\n",
       "Least busy days     7624336\n",
       "Name: count, dtype: int64"
      ]
     },
     "execution_count": 24,
     "metadata": {},
     "output_type": "execute_result"
    }
   ],
   "source": [
    "# checks the value counts of the modified labels in the \"busiest day column\"\n",
    "df_orders_products_merge['busiest_days_new'].value_counts(dropna = False)"
   ]
  },
  {
   "cell_type": "code",
   "execution_count": 25,
   "id": "88815ac2",
   "metadata": {},
   "outputs": [
    {
     "data": {
      "text/plain": [
       "busiest_day\n",
       "Regularly busy    22416875\n",
       "Busiest day        6204182\n",
       "Least busy         3783802\n",
       "Name: count, dtype: int64"
      ]
     },
     "execution_count": 25,
     "metadata": {},
     "output_type": "execute_result"
    }
   ],
   "source": [
    "# checks the value counts of the original column for comparison\n",
    "df_orders_products_merge['busiest_day'].value_counts(dropna = False)"
   ]
  },
  {
   "cell_type": "code",
   "execution_count": null,
   "id": "655619d3",
   "metadata": {},
   "outputs": [],
   "source": []
  },
  {
   "cell_type": "markdown",
   "id": "7ef49aea",
   "metadata": {},
   "source": [
    "### 3. Observations of busiest_days_new  column\n",
    "\n",
    "If we compare both values we can see that the old column that the top 2 values are almost as high as the regularly busy days. Using simple calculations we can have the value of Top 1, Top 2, Bottom 1 and Bottom 2 days. "
   ]
  },
  {
   "cell_type": "code",
   "execution_count": 26,
   "id": "41563289",
   "metadata": {},
   "outputs": [
    {
     "name": "stdout",
     "output_type": "stream",
     "text": [
      "This is the top 1 value:  6204182\n",
      "This is the top 2 value:  5660230\n",
      "This is the bottom 1 value:  3783802\n",
      "This is the bottom 2 value:  3840534\n"
     ]
    }
   ],
   "source": [
    "print('This is the top 1 value: ',  6204182)\n",
    "print('This is the top 2 value: ',  11864412-6204182)\n",
    "print('This is the bottom 1 value: ', 3783802)\n",
    "print('This is the bottom 2 value: ', 7624336-3783802)"
   ]
  },
  {
   "cell_type": "markdown",
   "id": "505deac3",
   "metadata": {},
   "source": [
    "### 4. Busiest hour ranges"
   ]
  },
  {
   "cell_type": "code",
   "execution_count": 27,
   "id": "37476b71",
   "metadata": {},
   "outputs": [
    {
     "data": {
      "text/html": [
       "<div>\n",
       "<style scoped>\n",
       "    .dataframe tbody tr th:only-of-type {\n",
       "        vertical-align: middle;\n",
       "    }\n",
       "\n",
       "    .dataframe tbody tr th {\n",
       "        vertical-align: top;\n",
       "    }\n",
       "\n",
       "    .dataframe thead th {\n",
       "        text-align: right;\n",
       "    }\n",
       "</style>\n",
       "<table border=\"1\" class=\"dataframe\">\n",
       "  <thead>\n",
       "    <tr style=\"text-align: right;\">\n",
       "      <th></th>\n",
       "      <th>product_id</th>\n",
       "      <th>product_name</th>\n",
       "      <th>aisle_id</th>\n",
       "      <th>department_id</th>\n",
       "      <th>prices</th>\n",
       "      <th>order_id</th>\n",
       "      <th>user_id</th>\n",
       "      <th>customer_order_count</th>\n",
       "      <th>order_day_of_the_week</th>\n",
       "      <th>order_hour_of_day</th>\n",
       "      <th>days_since_prior_order</th>\n",
       "      <th>add_to_cart_order</th>\n",
       "      <th>reordered</th>\n",
       "      <th>_merge</th>\n",
       "      <th>price_range_loc</th>\n",
       "      <th>busiest_day</th>\n",
       "      <th>busiest_days_new</th>\n",
       "    </tr>\n",
       "  </thead>\n",
       "  <tbody>\n",
       "    <tr>\n",
       "      <th>0</th>\n",
       "      <td>1</td>\n",
       "      <td>Chocolate Sandwich Cookies</td>\n",
       "      <td>61</td>\n",
       "      <td>19</td>\n",
       "      <td>5.8</td>\n",
       "      <td>3139998</td>\n",
       "      <td>138</td>\n",
       "      <td>28</td>\n",
       "      <td>6</td>\n",
       "      <td>11</td>\n",
       "      <td>3.0</td>\n",
       "      <td>5</td>\n",
       "      <td>0</td>\n",
       "      <td>both</td>\n",
       "      <td>Mid_range_price</td>\n",
       "      <td>Regularly busy</td>\n",
       "      <td>Regularly busy</td>\n",
       "    </tr>\n",
       "  </tbody>\n",
       "</table>\n",
       "</div>"
      ],
      "text/plain": [
       "   product_id                product_name  aisle_id  department_id  prices  \\\n",
       "0           1  Chocolate Sandwich Cookies        61             19     5.8   \n",
       "\n",
       "   order_id  user_id  customer_order_count  order_day_of_the_week  \\\n",
       "0   3139998      138                    28                      6   \n",
       "\n",
       "   order_hour_of_day  days_since_prior_order  add_to_cart_order  reordered  \\\n",
       "0                 11                     3.0                  5          0   \n",
       "\n",
       "  _merge  price_range_loc     busiest_day busiest_days_new  \n",
       "0   both  Mid_range_price  Regularly busy   Regularly busy  "
      ]
     },
     "execution_count": 27,
     "metadata": {},
     "output_type": "execute_result"
    }
   ],
   "source": [
    "df_orders_products_merge.head(1)"
   ]
  },
  {
   "cell_type": "code",
   "execution_count": 28,
   "id": "61249682",
   "metadata": {},
   "outputs": [
    {
     "data": {
      "text/plain": [
       "order_hour_of_day\n",
       "10    2761760\n",
       "11    2736140\n",
       "14    2689136\n",
       "15    2662144\n",
       "13    2660954\n",
       "12    2618532\n",
       "16    2535202\n",
       "9     2454203\n",
       "17    2087654\n",
       "8     1718118\n",
       "18    1636502\n",
       "19    1258305\n",
       "20     976156\n",
       "7      891054\n",
       "21     795637\n",
       "22     634225\n",
       "23     402316\n",
       "6      290493\n",
       "0      218769\n",
       "1      115700\n",
       "5       87961\n",
       "2       69375\n",
       "4       53242\n",
       "3       51281\n",
       "Name: count, dtype: int64"
      ]
     },
     "execution_count": 28,
     "metadata": {},
     "output_type": "execute_result"
    }
   ],
   "source": [
    "# uses values counts of all the hours in to visualiye possible hour ranges \n",
    "df_orders_products_merge['order_hour_of_day'].value_counts(dropna =False)\n"
   ]
  },
  {
   "cell_type": "code",
   "execution_count": 29,
   "id": "fe7081d1",
   "metadata": {},
   "outputs": [],
   "source": [
    "# declares 2 lists which represent top and bottom periods. 'Most orders' and 'Fewest Orders'.\n",
    "most_orders = [10, 11, 14, 15, 13, 12]\n",
    "fewest_orders = [0, 1, 5, 2, 4, 3]\n",
    "\n",
    "# declares empty list that will fill the 'busiest_period_of_day' column\n",
    "busiest_period_list = []\n",
    "\n",
    "# for loop that fills the empty list \n",
    "for value in df_orders_products_merge['order_hour_of_day']:  \n",
    "    if value in most_orders:\n",
    "        busiest_period_list.append('Most orders')\n",
    "    elif value in fewest_orders:\n",
    "        busiest_period_list.append('Fewest orders')\n",
    "    else:\n",
    "        busiest_period_list.append('Average orders')\n"
   ]
  },
  {
   "cell_type": "code",
   "execution_count": 30,
   "id": "a014c0cb",
   "metadata": {},
   "outputs": [],
   "source": [
    "# creates a column inside the df_orders_products_merge dataframe. Column name is 'busiest_period_of_day'.\n",
    "# assigns the values of busiest_period_list into this column\n",
    "\n",
    "df_orders_products_merge['busiest_period_of_day'] = busiest_period_list"
   ]
  },
  {
   "cell_type": "code",
   "execution_count": 31,
   "id": "280a353e",
   "metadata": {},
   "outputs": [
    {
     "data": {
      "text/html": [
       "<div>\n",
       "<style scoped>\n",
       "    .dataframe tbody tr th:only-of-type {\n",
       "        vertical-align: middle;\n",
       "    }\n",
       "\n",
       "    .dataframe tbody tr th {\n",
       "        vertical-align: top;\n",
       "    }\n",
       "\n",
       "    .dataframe thead th {\n",
       "        text-align: right;\n",
       "    }\n",
       "</style>\n",
       "<table border=\"1\" class=\"dataframe\">\n",
       "  <thead>\n",
       "    <tr style=\"text-align: right;\">\n",
       "      <th></th>\n",
       "      <th>product_id</th>\n",
       "      <th>product_name</th>\n",
       "      <th>aisle_id</th>\n",
       "      <th>department_id</th>\n",
       "      <th>prices</th>\n",
       "      <th>order_id</th>\n",
       "      <th>user_id</th>\n",
       "      <th>customer_order_count</th>\n",
       "      <th>order_day_of_the_week</th>\n",
       "      <th>order_hour_of_day</th>\n",
       "      <th>days_since_prior_order</th>\n",
       "      <th>add_to_cart_order</th>\n",
       "      <th>reordered</th>\n",
       "      <th>_merge</th>\n",
       "      <th>price_range_loc</th>\n",
       "      <th>busiest_day</th>\n",
       "      <th>busiest_days_new</th>\n",
       "      <th>busiest_period_of_day</th>\n",
       "    </tr>\n",
       "  </thead>\n",
       "  <tbody>\n",
       "    <tr>\n",
       "      <th>0</th>\n",
       "      <td>1</td>\n",
       "      <td>Chocolate Sandwich Cookies</td>\n",
       "      <td>61</td>\n",
       "      <td>19</td>\n",
       "      <td>5.8</td>\n",
       "      <td>3139998</td>\n",
       "      <td>138</td>\n",
       "      <td>28</td>\n",
       "      <td>6</td>\n",
       "      <td>11</td>\n",
       "      <td>3.0</td>\n",
       "      <td>5</td>\n",
       "      <td>0</td>\n",
       "      <td>both</td>\n",
       "      <td>Mid_range_price</td>\n",
       "      <td>Regularly busy</td>\n",
       "      <td>Regularly busy</td>\n",
       "      <td>Most orders</td>\n",
       "    </tr>\n",
       "  </tbody>\n",
       "</table>\n",
       "</div>"
      ],
      "text/plain": [
       "   product_id                product_name  aisle_id  department_id  prices  \\\n",
       "0           1  Chocolate Sandwich Cookies        61             19     5.8   \n",
       "\n",
       "   order_id  user_id  customer_order_count  order_day_of_the_week  \\\n",
       "0   3139998      138                    28                      6   \n",
       "\n",
       "   order_hour_of_day  days_since_prior_order  add_to_cart_order  reordered  \\\n",
       "0                 11                     3.0                  5          0   \n",
       "\n",
       "  _merge  price_range_loc     busiest_day busiest_days_new  \\\n",
       "0   both  Mid_range_price  Regularly busy   Regularly busy   \n",
       "\n",
       "  busiest_period_of_day  \n",
       "0           Most orders  "
      ]
     },
     "execution_count": 31,
     "metadata": {},
     "output_type": "execute_result"
    }
   ],
   "source": [
    "# checks the results\n",
    "df_orders_products_merge.head(1)"
   ]
  },
  {
   "cell_type": "markdown",
   "id": "5405f090",
   "metadata": {},
   "source": [
    "### 5. Print the frequency for this new column"
   ]
  },
  {
   "cell_type": "code",
   "execution_count": 32,
   "id": "de80516f",
   "metadata": {},
   "outputs": [
    {
     "name": "stdout",
     "output_type": "stream",
     "text": [
      "busiest_period_of_day\n",
      "Most orders       16128666\n",
      "Average orders    15679865\n",
      "Fewest orders       596328\n",
      "Name: count, dtype: int64\n"
     ]
    }
   ],
   "source": [
    "# print the counts of those periods\n",
    "print(df_orders_products_merge['busiest_period_of_day'].value_counts(dropna = False))"
   ]
  },
  {
   "cell_type": "markdown",
   "id": "03d0adcd",
   "metadata": {},
   "source": [
    "### 7. Exporting dataframe"
   ]
  },
  {
   "cell_type": "code",
   "execution_count": 33,
   "id": "b9845733",
   "metadata": {},
   "outputs": [],
   "source": [
    "df_orders_products_merge.to_pickle(os.path.join(data_path, 'Prepared Data', 'orders_products_merge_busy.pkl'))"
   ]
  },
  {
   "cell_type": "code",
   "execution_count": 34,
   "id": "912ac881",
   "metadata": {},
   "outputs": [
    {
     "data": {
      "text/plain": [
       "(32404859, 18)"
      ]
     },
     "execution_count": 34,
     "metadata": {},
     "output_type": "execute_result"
    }
   ],
   "source": [
    "# checks shape of exported datafram\n",
    "df_orders_products_merge.shape"
   ]
  }
 ],
 "metadata": {
  "kernelspec": {
   "display_name": "Python 3 (ipykernel)",
   "language": "python",
   "name": "python3"
  },
  "language_info": {
   "codemirror_mode": {
    "name": "ipython",
    "version": 3
   },
   "file_extension": ".py",
   "mimetype": "text/x-python",
   "name": "python",
   "nbconvert_exporter": "python",
   "pygments_lexer": "ipython3",
   "version": "3.11.7"
  }
 },
 "nbformat": 4,
 "nbformat_minor": 5
}
