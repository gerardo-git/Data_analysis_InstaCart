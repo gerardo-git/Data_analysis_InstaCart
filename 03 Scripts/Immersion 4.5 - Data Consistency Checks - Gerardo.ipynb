{
 "cells": [
  {
   "cell_type": "markdown",
   "id": "0d30fe44",
   "metadata": {},
   "source": [
    "### Importing Libraries"
   ]
  },
  {
   "cell_type": "code",
   "execution_count": 3,
   "id": "a9e13da0",
   "metadata": {},
   "outputs": [],
   "source": [
    "import pandas as pd\n",
    "import numpy as np\n",
    "import os"
   ]
  },
  {
   "cell_type": "markdown",
   "id": "6c85d0e5",
   "metadata": {},
   "source": [
    "### Importing Data"
   ]
  },
  {
   "cell_type": "code",
   "execution_count": 4,
   "id": "b2931692",
   "metadata": {},
   "outputs": [],
   "source": [
    "# declares data path \n",
    "data_path = r'C:\\Users\\gerar\\CareerFoundry Python\\Instacart Basket Analysis\\02 Data'"
   ]
  },
  {
   "cell_type": "code",
   "execution_count": 5,
   "id": "9776d524",
   "metadata": {},
   "outputs": [],
   "source": [
    "# imports products.csv into df_products\n",
    "df_products = pd.read_csv(os.path.join(data_path, 'Original Data', 'products.csv'))"
   ]
  },
  {
   "cell_type": "code",
   "execution_count": 6,
   "id": "205f078f",
   "metadata": {},
   "outputs": [],
   "source": [
    "# imports orders_wrangled.csv into df_orders\n",
    "df_orders_clean = pd.read_csv(os.path.join(data_path, 'Prepared Data', 'orders_wrangled.csv'))"
   ]
  },
  {
   "cell_type": "code",
   "execution_count": 31,
   "id": "583ae3bd",
   "metadata": {},
   "outputs": [
    {
     "name": "stdout",
     "output_type": "stream",
     "text": [
      "This is the shape of the imported orders table: (3421083, 7)\n",
      "This is the shape of the imported products table (49677, 5)\n"
     ]
    }
   ],
   "source": [
    "# check shape of imported dataframes \n",
    "print('This is the shape of the imported orders table:', df_orders_clean.shape)\n",
    "print('This is the shape of the imported products table', df_products_clean.shape)"
   ]
  },
  {
   "cell_type": "markdown",
   "id": "6b006365",
   "metadata": {},
   "source": [
    "### Consistency Checks"
   ]
  },
  {
   "cell_type": "code",
   "execution_count": 7,
   "id": "b311eaf4",
   "metadata": {},
   "outputs": [
    {
     "data": {
      "text/plain": [
       "product_id        0\n",
       "product_name     16\n",
       "aisle_id          0\n",
       "department_id     0\n",
       "prices            0\n",
       "dtype: int64"
      ]
     },
     "execution_count": 7,
     "metadata": {},
     "output_type": "execute_result"
    }
   ],
   "source": [
    "# checks how many null values are in a dataframe\n",
    "df_products.isnull().sum()"
   ]
  },
  {
   "cell_type": "code",
   "execution_count": 8,
   "id": "0ca6f245",
   "metadata": {},
   "outputs": [],
   "source": [
    "# creates a subset without rows that have null values in the product_name column\n",
    "df_products_clean = df_products[df_products['product_name'].isnull()== False]"
   ]
  },
  {
   "cell_type": "code",
   "execution_count": 9,
   "id": "e00f6bf2",
   "metadata": {},
   "outputs": [],
   "source": [
    "# checks for duplicate values and creates a safety dataframe for these duplicates\n",
    "df_duplicates = df_products_clean[df_products_clean.duplicated()]"
   ]
  },
  {
   "cell_type": "code",
   "execution_count": 12,
   "id": "294a3c6d",
   "metadata": {},
   "outputs": [
    {
     "data": {
      "text/html": [
       "<div>\n",
       "<style scoped>\n",
       "    .dataframe tbody tr th:only-of-type {\n",
       "        vertical-align: middle;\n",
       "    }\n",
       "\n",
       "    .dataframe tbody tr th {\n",
       "        vertical-align: top;\n",
       "    }\n",
       "\n",
       "    .dataframe thead th {\n",
       "        text-align: right;\n",
       "    }\n",
       "</style>\n",
       "<table border=\"1\" class=\"dataframe\">\n",
       "  <thead>\n",
       "    <tr style=\"text-align: right;\">\n",
       "      <th></th>\n",
       "      <th>product_id</th>\n",
       "      <th>product_name</th>\n",
       "      <th>aisle_id</th>\n",
       "      <th>department_id</th>\n",
       "      <th>prices</th>\n",
       "    </tr>\n",
       "  </thead>\n",
       "  <tbody>\n",
       "    <tr>\n",
       "      <th>462</th>\n",
       "      <td>462</td>\n",
       "      <td>Fiber 4g Gummy Dietary Supplement</td>\n",
       "      <td>70</td>\n",
       "      <td>11</td>\n",
       "      <td>4.8</td>\n",
       "    </tr>\n",
       "    <tr>\n",
       "      <th>18459</th>\n",
       "      <td>18458</td>\n",
       "      <td>Ranger IPA</td>\n",
       "      <td>27</td>\n",
       "      <td>5</td>\n",
       "      <td>9.2</td>\n",
       "    </tr>\n",
       "    <tr>\n",
       "      <th>26810</th>\n",
       "      <td>26808</td>\n",
       "      <td>Black House Coffee Roasty Stout Beer</td>\n",
       "      <td>27</td>\n",
       "      <td>5</td>\n",
       "      <td>13.4</td>\n",
       "    </tr>\n",
       "    <tr>\n",
       "      <th>35309</th>\n",
       "      <td>35306</td>\n",
       "      <td>Gluten Free Organic Peanut Butter &amp; Chocolate ...</td>\n",
       "      <td>121</td>\n",
       "      <td>14</td>\n",
       "      <td>6.8</td>\n",
       "    </tr>\n",
       "    <tr>\n",
       "      <th>35495</th>\n",
       "      <td>35491</td>\n",
       "      <td>Adore Forever Body Wash</td>\n",
       "      <td>127</td>\n",
       "      <td>11</td>\n",
       "      <td>9.9</td>\n",
       "    </tr>\n",
       "  </tbody>\n",
       "</table>\n",
       "</div>"
      ],
      "text/plain": [
       "       product_id                                       product_name  \\\n",
       "462           462                  Fiber 4g Gummy Dietary Supplement   \n",
       "18459       18458                                         Ranger IPA   \n",
       "26810       26808               Black House Coffee Roasty Stout Beer   \n",
       "35309       35306  Gluten Free Organic Peanut Butter & Chocolate ...   \n",
       "35495       35491                            Adore Forever Body Wash   \n",
       "\n",
       "       aisle_id  department_id  prices  \n",
       "462          70             11     4.8  \n",
       "18459        27              5     9.2  \n",
       "26810        27              5    13.4  \n",
       "35309       121             14     6.8  \n",
       "35495       127             11     9.9  "
      ]
     },
     "execution_count": 12,
     "metadata": {},
     "output_type": "execute_result"
    }
   ],
   "source": [
    "df_duplicates"
   ]
  },
  {
   "cell_type": "code",
   "execution_count": 10,
   "id": "cad9b02c",
   "metadata": {},
   "outputs": [],
   "source": [
    "# removes duplicates from df_products_clean and creates a new dataframe\n",
    "df_products_clean_no_duplicates = df_products_clean.drop_duplicates()"
   ]
  },
  {
   "cell_type": "code",
   "execution_count": 11,
   "id": "ae519f3b",
   "metadata": {},
   "outputs": [
    {
     "data": {
      "text/plain": [
       "(49677, 5)"
      ]
     },
     "execution_count": 11,
     "metadata": {},
     "output_type": "execute_result"
    }
   ],
   "source": [
    "# amount of rows df_products_clean\n",
    "df_products_clean.shape"
   ]
  },
  {
   "cell_type": "markdown",
   "id": "afeb6a8d",
   "metadata": {},
   "source": [
    "# Task"
   ]
  },
  {
   "cell_type": "markdown",
   "id": "9e1f28ee",
   "metadata": {},
   "source": [
    "### 2. Describe df_orders to discover columns with unexpected values"
   ]
  },
  {
   "cell_type": "code",
   "execution_count": 13,
   "id": "7df3a27b",
   "metadata": {},
   "outputs": [
    {
     "data": {
      "text/html": [
       "<div>\n",
       "<style scoped>\n",
       "    .dataframe tbody tr th:only-of-type {\n",
       "        vertical-align: middle;\n",
       "    }\n",
       "\n",
       "    .dataframe tbody tr th {\n",
       "        vertical-align: top;\n",
       "    }\n",
       "\n",
       "    .dataframe thead th {\n",
       "        text-align: right;\n",
       "    }\n",
       "</style>\n",
       "<table border=\"1\" class=\"dataframe\">\n",
       "  <thead>\n",
       "    <tr style=\"text-align: right;\">\n",
       "      <th></th>\n",
       "      <th>Unnamed: 0</th>\n",
       "      <th>order_id</th>\n",
       "      <th>user_id</th>\n",
       "      <th>customer_order_count</th>\n",
       "      <th>order_day_of_the_week</th>\n",
       "      <th>order_hour_of_day</th>\n",
       "      <th>days_since_prior_order</th>\n",
       "    </tr>\n",
       "  </thead>\n",
       "  <tbody>\n",
       "    <tr>\n",
       "      <th>count</th>\n",
       "      <td>3.421083e+06</td>\n",
       "      <td>3.421083e+06</td>\n",
       "      <td>3.421083e+06</td>\n",
       "      <td>3.421083e+06</td>\n",
       "      <td>3.421083e+06</td>\n",
       "      <td>3.421083e+06</td>\n",
       "      <td>3.214874e+06</td>\n",
       "    </tr>\n",
       "    <tr>\n",
       "      <th>mean</th>\n",
       "      <td>1.710541e+06</td>\n",
       "      <td>1.710542e+06</td>\n",
       "      <td>1.029782e+05</td>\n",
       "      <td>1.715486e+01</td>\n",
       "      <td>2.776219e+00</td>\n",
       "      <td>1.345202e+01</td>\n",
       "      <td>1.111484e+01</td>\n",
       "    </tr>\n",
       "    <tr>\n",
       "      <th>std</th>\n",
       "      <td>9.875817e+05</td>\n",
       "      <td>9.875817e+05</td>\n",
       "      <td>5.953372e+04</td>\n",
       "      <td>1.773316e+01</td>\n",
       "      <td>2.046829e+00</td>\n",
       "      <td>4.226088e+00</td>\n",
       "      <td>9.206737e+00</td>\n",
       "    </tr>\n",
       "    <tr>\n",
       "      <th>min</th>\n",
       "      <td>0.000000e+00</td>\n",
       "      <td>1.000000e+00</td>\n",
       "      <td>1.000000e+00</td>\n",
       "      <td>1.000000e+00</td>\n",
       "      <td>0.000000e+00</td>\n",
       "      <td>0.000000e+00</td>\n",
       "      <td>0.000000e+00</td>\n",
       "    </tr>\n",
       "    <tr>\n",
       "      <th>25%</th>\n",
       "      <td>8.552705e+05</td>\n",
       "      <td>8.552715e+05</td>\n",
       "      <td>5.139400e+04</td>\n",
       "      <td>5.000000e+00</td>\n",
       "      <td>1.000000e+00</td>\n",
       "      <td>1.000000e+01</td>\n",
       "      <td>4.000000e+00</td>\n",
       "    </tr>\n",
       "    <tr>\n",
       "      <th>50%</th>\n",
       "      <td>1.710541e+06</td>\n",
       "      <td>1.710542e+06</td>\n",
       "      <td>1.026890e+05</td>\n",
       "      <td>1.100000e+01</td>\n",
       "      <td>3.000000e+00</td>\n",
       "      <td>1.300000e+01</td>\n",
       "      <td>7.000000e+00</td>\n",
       "    </tr>\n",
       "    <tr>\n",
       "      <th>75%</th>\n",
       "      <td>2.565812e+06</td>\n",
       "      <td>2.565812e+06</td>\n",
       "      <td>1.543850e+05</td>\n",
       "      <td>2.300000e+01</td>\n",
       "      <td>5.000000e+00</td>\n",
       "      <td>1.600000e+01</td>\n",
       "      <td>1.500000e+01</td>\n",
       "    </tr>\n",
       "    <tr>\n",
       "      <th>max</th>\n",
       "      <td>3.421082e+06</td>\n",
       "      <td>3.421083e+06</td>\n",
       "      <td>2.062090e+05</td>\n",
       "      <td>1.000000e+02</td>\n",
       "      <td>6.000000e+00</td>\n",
       "      <td>2.300000e+01</td>\n",
       "      <td>3.000000e+01</td>\n",
       "    </tr>\n",
       "  </tbody>\n",
       "</table>\n",
       "</div>"
      ],
      "text/plain": [
       "         Unnamed: 0      order_id       user_id  customer_order_count  \\\n",
       "count  3.421083e+06  3.421083e+06  3.421083e+06          3.421083e+06   \n",
       "mean   1.710541e+06  1.710542e+06  1.029782e+05          1.715486e+01   \n",
       "std    9.875817e+05  9.875817e+05  5.953372e+04          1.773316e+01   \n",
       "min    0.000000e+00  1.000000e+00  1.000000e+00          1.000000e+00   \n",
       "25%    8.552705e+05  8.552715e+05  5.139400e+04          5.000000e+00   \n",
       "50%    1.710541e+06  1.710542e+06  1.026890e+05          1.100000e+01   \n",
       "75%    2.565812e+06  2.565812e+06  1.543850e+05          2.300000e+01   \n",
       "max    3.421082e+06  3.421083e+06  2.062090e+05          1.000000e+02   \n",
       "\n",
       "       order_day_of_the_week  order_hour_of_day  days_since_prior_order  \n",
       "count           3.421083e+06       3.421083e+06            3.214874e+06  \n",
       "mean            2.776219e+00       1.345202e+01            1.111484e+01  \n",
       "std             2.046829e+00       4.226088e+00            9.206737e+00  \n",
       "min             0.000000e+00       0.000000e+00            0.000000e+00  \n",
       "25%             1.000000e+00       1.000000e+01            4.000000e+00  \n",
       "50%             3.000000e+00       1.300000e+01            7.000000e+00  \n",
       "75%             5.000000e+00       1.600000e+01            1.500000e+01  \n",
       "max             6.000000e+00       2.300000e+01            3.000000e+01  "
      ]
     },
     "execution_count": 13,
     "metadata": {},
     "output_type": "execute_result"
    }
   ],
   "source": [
    "df_orders_clean.describe()"
   ]
  },
  {
   "cell_type": "markdown",
   "id": "5c677f7e",
   "metadata": {},
   "source": [
    "2. I don't see anything that seems irregular, it should be further investigated"
   ]
  },
  {
   "cell_type": "markdown",
   "id": "3953f974",
   "metadata": {},
   "source": [
    "### 3. Checking for mixed-type data in the orders dataframe"
   ]
  },
  {
   "cell_type": "code",
   "execution_count": 14,
   "id": "b228e704",
   "metadata": {
    "scrolled": true
   },
   "outputs": [],
   "source": [
    "for col in df_orders_clean.columns.tolist():\n",
    "  weird = (df_orders_clean[[col]].map(type) != df_orders_clean[[col]].iloc[0].apply(type)).any(axis = 1)\n",
    "  if len (df_orders_clean[weird]) > 0:\n",
    "    print (col)"
   ]
  },
  {
   "cell_type": "markdown",
   "id": "1608ec54",
   "metadata": {},
   "source": [
    "### 4. Comment if there was mixed-type data in the orders dataframe\n",
    "\n",
    "No mixed-type data was found. This code above does not print any column name. "
   ]
  },
  {
   "cell_type": "markdown",
   "id": "541908ea",
   "metadata": {},
   "source": [
    "### 5. Checking for missing values in the orders dataframe"
   ]
  },
  {
   "cell_type": "code",
   "execution_count": 15,
   "id": "456206cc",
   "metadata": {},
   "outputs": [
    {
     "data": {
      "text/plain": [
       "Unnamed: 0                     0\n",
       "order_id                       0\n",
       "user_id                        0\n",
       "customer_order_count           0\n",
       "order_day_of_the_week          0\n",
       "order_hour_of_day              0\n",
       "days_since_prior_order    206209\n",
       "dtype: int64"
      ]
     },
     "execution_count": 15,
     "metadata": {},
     "output_type": "execute_result"
    }
   ],
   "source": [
    "# check df_orders_clean for missing values\n",
    "df_orders_clean.isnull().sum()"
   ]
  },
  {
   "cell_type": "code",
   "execution_count": 16,
   "id": "977365b2",
   "metadata": {},
   "outputs": [
    {
     "data": {
      "text/html": [
       "<div>\n",
       "<style scoped>\n",
       "    .dataframe tbody tr th:only-of-type {\n",
       "        vertical-align: middle;\n",
       "    }\n",
       "\n",
       "    .dataframe tbody tr th {\n",
       "        vertical-align: top;\n",
       "    }\n",
       "\n",
       "    .dataframe thead th {\n",
       "        text-align: right;\n",
       "    }\n",
       "</style>\n",
       "<table border=\"1\" class=\"dataframe\">\n",
       "  <thead>\n",
       "    <tr style=\"text-align: right;\">\n",
       "      <th></th>\n",
       "      <th>Unnamed: 0</th>\n",
       "      <th>order_id</th>\n",
       "      <th>user_id</th>\n",
       "      <th>customer_order_count</th>\n",
       "      <th>order_day_of_the_week</th>\n",
       "      <th>order_hour_of_day</th>\n",
       "      <th>days_since_prior_order</th>\n",
       "    </tr>\n",
       "  </thead>\n",
       "  <tbody>\n",
       "    <tr>\n",
       "      <th>0</th>\n",
       "      <td>0</td>\n",
       "      <td>2539329</td>\n",
       "      <td>1</td>\n",
       "      <td>1</td>\n",
       "      <td>2</td>\n",
       "      <td>8</td>\n",
       "      <td>NaN</td>\n",
       "    </tr>\n",
       "    <tr>\n",
       "      <th>11</th>\n",
       "      <td>11</td>\n",
       "      <td>2168274</td>\n",
       "      <td>2</td>\n",
       "      <td>1</td>\n",
       "      <td>2</td>\n",
       "      <td>11</td>\n",
       "      <td>NaN</td>\n",
       "    </tr>\n",
       "    <tr>\n",
       "      <th>26</th>\n",
       "      <td>26</td>\n",
       "      <td>1374495</td>\n",
       "      <td>3</td>\n",
       "      <td>1</td>\n",
       "      <td>1</td>\n",
       "      <td>14</td>\n",
       "      <td>NaN</td>\n",
       "    </tr>\n",
       "    <tr>\n",
       "      <th>39</th>\n",
       "      <td>39</td>\n",
       "      <td>3343014</td>\n",
       "      <td>4</td>\n",
       "      <td>1</td>\n",
       "      <td>6</td>\n",
       "      <td>11</td>\n",
       "      <td>NaN</td>\n",
       "    </tr>\n",
       "    <tr>\n",
       "      <th>45</th>\n",
       "      <td>45</td>\n",
       "      <td>2717275</td>\n",
       "      <td>5</td>\n",
       "      <td>1</td>\n",
       "      <td>3</td>\n",
       "      <td>12</td>\n",
       "      <td>NaN</td>\n",
       "    </tr>\n",
       "    <tr>\n",
       "      <th>...</th>\n",
       "      <td>...</td>\n",
       "      <td>...</td>\n",
       "      <td>...</td>\n",
       "      <td>...</td>\n",
       "      <td>...</td>\n",
       "      <td>...</td>\n",
       "      <td>...</td>\n",
       "    </tr>\n",
       "    <tr>\n",
       "      <th>3420930</th>\n",
       "      <td>3420930</td>\n",
       "      <td>969311</td>\n",
       "      <td>206205</td>\n",
       "      <td>1</td>\n",
       "      <td>4</td>\n",
       "      <td>12</td>\n",
       "      <td>NaN</td>\n",
       "    </tr>\n",
       "    <tr>\n",
       "      <th>3420934</th>\n",
       "      <td>3420934</td>\n",
       "      <td>3189322</td>\n",
       "      <td>206206</td>\n",
       "      <td>1</td>\n",
       "      <td>3</td>\n",
       "      <td>18</td>\n",
       "      <td>NaN</td>\n",
       "    </tr>\n",
       "    <tr>\n",
       "      <th>3421002</th>\n",
       "      <td>3421002</td>\n",
       "      <td>2166133</td>\n",
       "      <td>206207</td>\n",
       "      <td>1</td>\n",
       "      <td>6</td>\n",
       "      <td>19</td>\n",
       "      <td>NaN</td>\n",
       "    </tr>\n",
       "    <tr>\n",
       "      <th>3421019</th>\n",
       "      <td>3421019</td>\n",
       "      <td>2227043</td>\n",
       "      <td>206208</td>\n",
       "      <td>1</td>\n",
       "      <td>1</td>\n",
       "      <td>15</td>\n",
       "      <td>NaN</td>\n",
       "    </tr>\n",
       "    <tr>\n",
       "      <th>3421069</th>\n",
       "      <td>3421069</td>\n",
       "      <td>3154581</td>\n",
       "      <td>206209</td>\n",
       "      <td>1</td>\n",
       "      <td>3</td>\n",
       "      <td>11</td>\n",
       "      <td>NaN</td>\n",
       "    </tr>\n",
       "  </tbody>\n",
       "</table>\n",
       "<p>206209 rows × 7 columns</p>\n",
       "</div>"
      ],
      "text/plain": [
       "         Unnamed: 0  order_id  user_id  customer_order_count  \\\n",
       "0                 0   2539329        1                     1   \n",
       "11               11   2168274        2                     1   \n",
       "26               26   1374495        3                     1   \n",
       "39               39   3343014        4                     1   \n",
       "45               45   2717275        5                     1   \n",
       "...             ...       ...      ...                   ...   \n",
       "3420930     3420930    969311   206205                     1   \n",
       "3420934     3420934   3189322   206206                     1   \n",
       "3421002     3421002   2166133   206207                     1   \n",
       "3421019     3421019   2227043   206208                     1   \n",
       "3421069     3421069   3154581   206209                     1   \n",
       "\n",
       "         order_day_of_the_week  order_hour_of_day  days_since_prior_order  \n",
       "0                            2                  8                     NaN  \n",
       "11                           2                 11                     NaN  \n",
       "26                           1                 14                     NaN  \n",
       "39                           6                 11                     NaN  \n",
       "45                           3                 12                     NaN  \n",
       "...                        ...                ...                     ...  \n",
       "3420930                      4                 12                     NaN  \n",
       "3420934                      3                 18                     NaN  \n",
       "3421002                      6                 19                     NaN  \n",
       "3421019                      1                 15                     NaN  \n",
       "3421069                      3                 11                     NaN  \n",
       "\n",
       "[206209 rows x 7 columns]"
      ]
     },
     "execution_count": 16,
     "metadata": {},
     "output_type": "execute_result"
    }
   ],
   "source": [
    "# creates temporal subset to explore those rows\n",
    "\n",
    "df_orders_clean[df_orders_clean['days_since_prior_order'].isnull() == True]"
   ]
  },
  {
   "cell_type": "markdown",
   "id": "21224c7f",
   "metadata": {},
   "source": [
    "### 6. Addressing missing values"
   ]
  },
  {
   "cell_type": "markdown",
   "id": "3268da7d",
   "metadata": {},
   "source": [
    "These values represent a customer ordering for the first time. This is why there is no prior days.\n",
    "\n",
    "Therefore, I dont think they should be removed. "
   ]
  },
  {
   "cell_type": "markdown",
   "id": "0a136835",
   "metadata": {},
   "source": [
    "### 7. Checking for duplicate values"
   ]
  },
  {
   "cell_type": "code",
   "execution_count": 25,
   "id": "f56fdbb8",
   "metadata": {},
   "outputs": [
    {
     "data": {
      "text/html": [
       "<div>\n",
       "<style scoped>\n",
       "    .dataframe tbody tr th:only-of-type {\n",
       "        vertical-align: middle;\n",
       "    }\n",
       "\n",
       "    .dataframe tbody tr th {\n",
       "        vertical-align: top;\n",
       "    }\n",
       "\n",
       "    .dataframe thead th {\n",
       "        text-align: right;\n",
       "    }\n",
       "</style>\n",
       "<table border=\"1\" class=\"dataframe\">\n",
       "  <thead>\n",
       "    <tr style=\"text-align: right;\">\n",
       "      <th></th>\n",
       "      <th>Unnamed: 0</th>\n",
       "      <th>order_id</th>\n",
       "      <th>user_id</th>\n",
       "      <th>customer_order_count</th>\n",
       "      <th>order_day_of_the_week</th>\n",
       "      <th>order_hour_of_day</th>\n",
       "      <th>days_since_prior_order</th>\n",
       "    </tr>\n",
       "  </thead>\n",
       "  <tbody>\n",
       "  </tbody>\n",
       "</table>\n",
       "</div>"
      ],
      "text/plain": [
       "Empty DataFrame\n",
       "Columns: [Unnamed: 0, order_id, user_id, customer_order_count, order_day_of_the_week, order_hour_of_day, days_since_prior_order]\n",
       "Index: []"
      ]
     },
     "execution_count": 25,
     "metadata": {},
     "output_type": "execute_result"
    }
   ],
   "source": [
    "# checks duplicate values\n",
    "df_orders_clean[df_orders_clean.duplicated()]"
   ]
  },
  {
   "cell_type": "markdown",
   "id": "0587ec12",
   "metadata": {},
   "source": [
    "No duplicate values found in the orders dataframe."
   ]
  },
  {
   "cell_type": "markdown",
   "id": "39a12805",
   "metadata": {},
   "source": [
    "### 8. Adressing Duplicate values"
   ]
  },
  {
   "cell_type": "markdown",
   "id": "4bf9c26a",
   "metadata": {},
   "source": [
    "No duplicates in df_orders_clean"
   ]
  },
  {
   "cell_type": "code",
   "execution_count": 26,
   "id": "dc4ad519",
   "metadata": {},
   "outputs": [],
   "source": [
    "# creating df_orders_clean_no_duplicates for naming consistency\n",
    "df_orders_clean_no_duplicates = df_orders_clean"
   ]
  },
  {
   "cell_type": "markdown",
   "id": "5f2747b8",
   "metadata": {},
   "source": [
    "### 9. Exporting Data"
   ]
  },
  {
   "cell_type": "code",
   "execution_count": 27,
   "id": "2f82ad8f",
   "metadata": {},
   "outputs": [],
   "source": [
    "# Exporting df_orders_clean and df_products_no_duplicates as file_consistent.csv\n",
    "\n",
    "df_orders_clean_no_duplicates.to_csv(os.path.join(data_path, 'Prepared Data', 'orders_consistent.csv'))\n",
    "\n",
    "df_products_clean_no_duplicates.to_csv(os.path.join(data_path, 'Prepared Data', 'products_consistent.csv'))"
   ]
  },
  {
   "cell_type": "code",
   "execution_count": 30,
   "id": "138d25b0",
   "metadata": {},
   "outputs": [
    {
     "name": "stdout",
     "output_type": "stream",
     "text": [
      "This is the shape of the consistent orders table: (3421083, 7)\n",
      "This is the shape of the consistent products table (49672, 5)\n"
     ]
    }
   ],
   "source": [
    "# check shape of exported dataframes \n",
    "print('This is the shape of the consistent orders table:', df_orders_clean_no_duplicates.shape)\n",
    "print('This is the shape of the consistent products table', df_products_clean_no_duplicates.shape)"
   ]
  },
  {
   "cell_type": "code",
   "execution_count": null,
   "id": "c670771c",
   "metadata": {},
   "outputs": [],
   "source": []
  }
 ],
 "metadata": {
  "kernelspec": {
   "display_name": "Python 3 (ipykernel)",
   "language": "python",
   "name": "python3"
  },
  "language_info": {
   "codemirror_mode": {
    "name": "ipython",
    "version": 3
   },
   "file_extension": ".py",
   "mimetype": "text/x-python",
   "name": "python",
   "nbconvert_exporter": "python",
   "pygments_lexer": "ipython3",
   "version": "3.11.7"
  }
 },
 "nbformat": 4,
 "nbformat_minor": 5
}
